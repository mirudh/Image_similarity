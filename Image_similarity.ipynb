{
  "cells": [
    {
      "cell_type": "markdown",
      "source": [
        "Methodology 1"
      ],
      "metadata": {
        "id": "aOOZ710qHUCG"
      }
    },
    {
      "cell_type": "code",
      "source": [
        "from skimage.metrics import structural_similarity\n",
        "import cv2\n",
        "import numpy as np\n",
        "\n",
        "# Load images\n",
        "before = cv2.imread('input1.png')\n",
        "after = cv2.imread('input2.png')\n",
        "\n",
        "# Convert images to grayscale\n",
        "before_gray = cv2.cvtColor(before, cv2.COLOR_BGR2GRAY)\n",
        "after_gray = cv2.cvtColor(after, cv2.COLOR_BGR2GRAY)\n",
        "\n",
        "# Compute SSIM between the two images\n",
        "(score, diff) = structural_similarity(before_gray, after_gray, full=True)\n",
        "print(\"Image Similarity: {:.4f}%\".format(score * 100))\n",
        "\n",
        "diff = (diff * 255).astype(\"uint8\")\n",
        "diff_box = cv2.merge([diff, diff, diff])\n",
        "\n",
        "# Threshold the difference image, followed by finding contours to\n",
        "# obtain the regions of the two input images that differ\n",
        "thresh = cv2.threshold(diff, 0, 255, cv2.THRESH_BINARY_INV | cv2.THRESH_OTSU)[1]\n",
        "contours = cv2.findContours(thresh, cv2.RETR_EXTERNAL, cv2.CHAIN_APPROX_SIMPLE)\n",
        "contours = contours[0] if len(contours) == 2 else contours[1]\n",
        "\n",
        "for c in contours:\n",
        "    area = cv2.contourArea(c)\n",
        "    if area > 40:\n",
        "        x,y,w,h = cv2.boundingRect(c)\n",
        "        cv2.rectangle(before, (x, y), (x + w, y + h), (36,255,12), 2)\n",
        "        cv2.rectangle(after, (x, y), (x + w, y + h), (36,255,12), 2)\n",
        "        cv2.rectangle(diff_box, (x, y), (x + w, y + h), (36,255,12), 2)\n",
        "\n",
        "cv2.imwrite('before.jpg', before)\n",
        "cv2.imwrite('after.jpg', after)\n",
        "cv2.waitKey()\n"
      ],
      "metadata": {
        "colab": {
          "base_uri": "https://localhost:8080/"
        },
        "id": "7ctk097QaoA_",
        "outputId": "bd5c71f6-b5aa-4c9e-dfea-01854009434f"
      },
      "execution_count": null,
      "outputs": [
        {
          "output_type": "stream",
          "name": "stdout",
          "text": [
            "Image Similarity: 93.8810%\n"
          ]
        },
        {
          "output_type": "execute_result",
          "data": {
            "text/plain": [
              "-1"
            ]
          },
          "metadata": {},
          "execution_count": 10
        }
      ]
    },
    {
      "cell_type": "markdown",
      "source": [
        "Methodology 2"
      ],
      "metadata": {
        "id": "vbuZDA0aHYbF"
      }
    },
    {
      "cell_type": "code",
      "source": [
        "import cv2\n",
        "import numpy as np\n",
        "# Load two images\n",
        "image1 = cv2.imread('input1.png')\n",
        "image2 = cv2.imread('input2.png')\n",
        "# Convert images to grayscale\n",
        "gray1 = cv2.cvtColor(image1, cv2.COLOR_BGR2GRAY)\n",
        "gray2 = cv2.cvtColor(image2, cv2.COLOR_BGR2GRAY)\n",
        "\n",
        "(score, diff) = structural_similarity(gray1, gray2, full=True)\n",
        "print(f'The similarity percentage is given as {score * 100}%')\n",
        "\n",
        "# Compute absolute difference between the two images\n",
        "difference = cv2.absdiff(gray1, gray2)\n",
        "# Apply thresholding to highlight the differences\n",
        "_, thresholded = cv2.threshold(difference, 30, 255, cv2.THRESH_BINARY)\n",
        "# Find contours of the differences\n",
        "contours, _ = cv2.findContours(thresholded, cv2.RETR_EXTERNAL, cv2.CHAIN_APPROX_SIMPLE)\n",
        "# Draw rectangles around the differing regions\n",
        "for contour in contours:\n",
        "  x, y, w, h = cv2.boundingRect(contour)\n",
        "  cv2.rectangle(image1, (x, y), (x + w, y + h), (36,255,12), 2)\n",
        "# Display the result\n",
        "cv2.imwrite('Difference1.png', image1)\n",
        "\n",
        "# Compute absolute difference between the two images\n",
        "difference = cv2.absdiff(gray2, gray1)\n",
        "# Apply thresholding to highlight the differences\n",
        "_, thresholded = cv2.threshold(difference, 30, 255, cv2.THRESH_BINARY)\n",
        "# Find contours of the differences\n",
        "contours, _ = cv2.findContours(thresholded, cv2.RETR_EXTERNAL, cv2.CHAIN_APPROX_SIMPLE)\n",
        "# Draw rectangles around the differing regions\n",
        "for contour in contours:\n",
        "  x, y, w, h = cv2.boundingRect(contour)\n",
        "  cv2.rectangle(image2, (x, y), (x + w, y + h), (36,255,12), 2)\n",
        "cv2.imwrite('Difference2.png', image2)"
      ],
      "metadata": {
        "colab": {
          "base_uri": "https://localhost:8080/"
        },
        "id": "vyHia72-ggvR",
        "outputId": "0390fa6c-47b2-42f2-8e89-761857f487ae"
      },
      "execution_count": null,
      "outputs": [
        {
          "output_type": "stream",
          "name": "stdout",
          "text": [
            "The similarity percentage is given as 93.88101913918601%\n"
          ]
        },
        {
          "output_type": "execute_result",
          "data": {
            "text/plain": [
              "True"
            ]
          },
          "metadata": {},
          "execution_count": 11
        }
      ]
    }
  ],
  "metadata": {
    "colab": {
      "provenance": []
    },
    "kernelspec": {
      "display_name": "Python 3",
      "name": "python3"
    },
    "language_info": {
      "name": "python"
    }
  },
  "nbformat": 4,
  "nbformat_minor": 0
}